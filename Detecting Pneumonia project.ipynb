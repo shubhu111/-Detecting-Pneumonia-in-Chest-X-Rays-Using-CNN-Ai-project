{
 "cells": [
  {
   "cell_type": "markdown",
   "id": "fb06be3a-e64a-4a4b-a72f-32607805681a",
   "metadata": {},
   "source": [
    "## Shubham Tade : \n",
    "# Project: Detecting Pneumonia in Chest X-Rays Classification with CNN"
   ]
  },
  {
   "cell_type": "code",
   "execution_count": 39,
   "id": "4c34b0e8-ab12-4b96-a865-e14a67e51020",
   "metadata": {},
   "outputs": [],
   "source": [
    "import numpy as np \n",
    "import matplotlib.pyplot as plt\n",
    "import tensorflow as tf\n",
    "import warnings\n",
    "warnings.filterwarnings('ignore')"
   ]
  },
  {
   "cell_type": "code",
   "execution_count": 40,
   "id": "b25ea372-ea40-4d42-b0f1-af19c8d00794",
   "metadata": {},
   "outputs": [],
   "source": [
    "from tensorflow.keras.models import Sequential\n",
    "from tensorflow.keras.preprocessing.image import load_img , img_to_array , ImageDataGenerator\n",
    "from tensorflow.keras.layers import Conv2D , MaxPool2D , Flatten , Dense, Dropout\n",
    "from tensorflow.keras.callbacks import EarlyStopping, ReduceLROnPlateau"
   ]
  },
  {
   "cell_type": "code",
   "execution_count": 41,
   "id": "2367c9d5-9ad1-4ccf-b29a-a18611d1d790",
   "metadata": {},
   "outputs": [],
   "source": [
    "train_path = r\"C:\\Users\\Shubham Tade\\Desktop\\Projects\\Ai project\\Detecting Pneumonia in Chest X-Rays Classification with CNN\\Data\\train\"\n",
    "test_path = r\"C:\\Users\\Shubham Tade\\Desktop\\Projects\\Ai project\\Detecting Pneumonia in Chest X-Rays Classification with CNN\\Data\\test\"\n",
    "validation_path = r\"C:\\Users\\Shubham Tade\\Desktop\\Projects\\Ai project\\Detecting Pneumonia in Chest X-Rays Classification with CNN\\Data\\val\""
   ]
  },
  {
   "cell_type": "code",
   "execution_count": 42,
   "id": "78b8c746-606e-4700-baaf-df9d40fb0f7e",
   "metadata": {},
   "outputs": [],
   "source": [
    "img_width , img_height = 224, 224"
   ]
  },
  {
   "cell_type": "code",
   "execution_count": 43,
   "id": "680a0309-cb5b-4b87-9c12-b249554384dc",
   "metadata": {},
   "outputs": [],
   "source": [
    "batch_size = 40"
   ]
  },
  {
   "cell_type": "code",
   "execution_count": 44,
   "id": "4a0b2fe7-e3af-4cc1-b41c-3cc2e17fa671",
   "metadata": {},
   "outputs": [],
   "source": [
    "train_dataset = ImageDataGenerator(rescale=1.0/255,\n",
    "                                  rotation_range=20,\n",
    "                                   shear_range=0.2,\n",
    "                                   width_shift_range=0.2,\n",
    "                                   height_shift_range=0.2,\n",
    "                                   zoom_range=0.2,\n",
    "                                   horizontal_flip=True                                 \n",
    "                                   )\n"
   ]
  },
  {
   "cell_type": "code",
   "execution_count": 45,
   "id": "4d47a668-23cd-4e46-81e7-9d6294332780",
   "metadata": {},
   "outputs": [],
   "source": [
    "val_dataset = ImageDataGenerator(rescale=1.0/255)"
   ]
  },
  {
   "cell_type": "code",
   "execution_count": 46,
   "id": "18b1f2d2-a744-4097-b310-b636b61ae178",
   "metadata": {},
   "outputs": [],
   "source": [
    "test_dataset = ImageDataGenerator(rescale=1.0/255)"
   ]
  },
  {
   "cell_type": "code",
   "execution_count": 47,
   "id": "e61c928a-83b3-49e2-9835-f8d51d1f8958",
   "metadata": {},
   "outputs": [
    {
     "name": "stdout",
     "output_type": "stream",
     "text": [
      "Found 2376 images belonging to 2 classes.\n"
     ]
    }
   ],
   "source": [
    "train_img = train_dataset.flow_from_directory( train_path ,target_size=(img_width,img_height) , batch_size=batch_size , class_mode='categorical')"
   ]
  },
  {
   "cell_type": "code",
   "execution_count": 48,
   "id": "df659cb9-2e5c-4ad3-90f7-0fee5bc60b0c",
   "metadata": {},
   "outputs": [
    {
     "name": "stdout",
     "output_type": "stream",
     "text": [
      "Found 400 images belonging to 2 classes.\n"
     ]
    }
   ],
   "source": [
    "test_img = test_dataset.flow_from_directory(test_path , target_size=(img_width,img_height) , batch_size=batch_size , class_mode='categorical')"
   ]
  },
  {
   "cell_type": "code",
   "execution_count": 49,
   "id": "7f2fa28e-3fdf-4a71-b22c-cec508cb2fc4",
   "metadata": {},
   "outputs": [
    {
     "name": "stdout",
     "output_type": "stream",
     "text": [
      "Found 401 images belonging to 2 classes.\n"
     ]
    }
   ],
   "source": [
    "val_img = val_dataset.flow_from_directory(validation_path , target_size=(img_width,img_height) , batch_size=batch_size , class_mode='categorical')"
   ]
  },
  {
   "cell_type": "code",
   "execution_count": 50,
   "id": "6d7a0994-d576-40dc-abe5-93492aed56e6",
   "metadata": {},
   "outputs": [
    {
     "data": {
      "text/plain": [
       "{'NORMAL': 0, 'PNEUMONIA': 1}"
      ]
     },
     "execution_count": 50,
     "metadata": {},
     "output_type": "execute_result"
    }
   ],
   "source": [
    "train_img.class_indices"
   ]
  },
  {
   "cell_type": "code",
   "execution_count": 51,
   "id": "64b64064-f97e-448d-8632-a900ffb8eb31",
   "metadata": {},
   "outputs": [],
   "source": [
    "classes = ['NORMAL', 'PNEUMONIA']"
   ]
  },
  {
   "cell_type": "code",
   "execution_count": 52,
   "id": "c91f0490-dcd3-4877-a01b-6e6f6d006d74",
   "metadata": {},
   "outputs": [],
   "source": [
    "model = Sequential([\n",
    "\n",
    "    Conv2D(32,(3,3), activation='relu',input_shape=(img_width,img_height,3)),\n",
    "    Conv2D(32,(3,3) , activation='relu'),\n",
    "    MaxPool2D(pool_size=(2,2)),\n",
    "    Conv2D(16,(3,3),activation='relu'),\n",
    "    Conv2D(8,(3,3),activation='relu'),\n",
    "    MaxPool2D(pool_size=(2,2)),\n",
    "    Flatten(),\n",
    "    Dense(50,activation='relu'),\n",
    "    Dense(30,activation='relu'),\n",
    "    Dense(2,activation='softmax')  \n",
    "])"
   ]
  },
  {
   "cell_type": "code",
   "execution_count": 53,
   "id": "5395f62f-0c11-424d-996a-1b05b2877982",
   "metadata": {},
   "outputs": [],
   "source": [
    "model.compile(optimizer='adam' , loss='categorical_crossentropy' , metrics=['accuracy'])"
   ]
  },
  {
   "cell_type": "code",
   "execution_count": 54,
   "id": "e22167b9",
   "metadata": {},
   "outputs": [],
   "source": [
    "# early_stopping = EarlyStopping(monitor='val_loss', patience=3, restore_best_weights=True)\n",
    "# lr_scheduler = ReduceLROnPlateau(monitor='val_loss', factor=0.5, patience=3, verbose=1)"
   ]
  },
  {
   "cell_type": "code",
   "execution_count": 55,
   "id": "e47c4e70-2c17-4742-b115-5d9cdf0289b0",
   "metadata": {},
   "outputs": [
    {
     "name": "stdout",
     "output_type": "stream",
     "text": [
      "Epoch 1/15\n",
      "\u001b[1m60/60\u001b[0m \u001b[32m━━━━━━━━━━━━━━━━━━━━\u001b[0m\u001b[37m\u001b[0m \u001b[1m103s\u001b[0m 2s/step - accuracy: 0.5836 - loss: 0.6585 - val_accuracy: 0.6608 - val_loss: 0.6675\n",
      "Epoch 2/15\n",
      "\u001b[1m60/60\u001b[0m \u001b[32m━━━━━━━━━━━━━━━━━━━━\u001b[0m\u001b[37m\u001b[0m \u001b[1m101s\u001b[0m 2s/step - accuracy: 0.8330 - loss: 0.4324 - val_accuracy: 0.7481 - val_loss: 0.5311\n",
      "Epoch 3/15\n",
      "\u001b[1m60/60\u001b[0m \u001b[32m━━━━━━━━━━━━━━━━━━━━\u001b[0m\u001b[37m\u001b[0m \u001b[1m103s\u001b[0m 2s/step - accuracy: 0.8347 - loss: 0.3970 - val_accuracy: 0.8304 - val_loss: 0.4786\n",
      "Epoch 4/15\n",
      "\u001b[1m60/60\u001b[0m \u001b[32m━━━━━━━━━━━━━━━━━━━━\u001b[0m\u001b[37m\u001b[0m \u001b[1m101s\u001b[0m 2s/step - accuracy: 0.8661 - loss: 0.3480 - val_accuracy: 0.8379 - val_loss: 0.4281\n",
      "Epoch 5/15\n",
      "\u001b[1m60/60\u001b[0m \u001b[32m━━━━━━━━━━━━━━━━━━━━\u001b[0m\u001b[37m\u001b[0m \u001b[1m101s\u001b[0m 2s/step - accuracy: 0.8997 - loss: 0.2818 - val_accuracy: 0.8504 - val_loss: 0.3577\n",
      "Epoch 6/15\n",
      "\u001b[1m60/60\u001b[0m \u001b[32m━━━━━━━━━━━━━━━━━━━━\u001b[0m\u001b[37m\u001b[0m \u001b[1m102s\u001b[0m 2s/step - accuracy: 0.9063 - loss: 0.2391 - val_accuracy: 0.8678 - val_loss: 0.3468\n",
      "Epoch 7/15\n",
      "\u001b[1m60/60\u001b[0m \u001b[32m━━━━━━━━━━━━━━━━━━━━\u001b[0m\u001b[37m\u001b[0m \u001b[1m100s\u001b[0m 2s/step - accuracy: 0.9134 - loss: 0.2378 - val_accuracy: 0.8878 - val_loss: 0.3056\n",
      "Epoch 8/15\n",
      "\u001b[1m60/60\u001b[0m \u001b[32m━━━━━━━━━━━━━━━━━━━━\u001b[0m\u001b[37m\u001b[0m \u001b[1m102s\u001b[0m 2s/step - accuracy: 0.9270 - loss: 0.2165 - val_accuracy: 0.8853 - val_loss: 0.3175\n",
      "Epoch 9/15\n",
      "\u001b[1m60/60\u001b[0m \u001b[32m━━━━━━━━━━━━━━━━━━━━\u001b[0m\u001b[37m\u001b[0m \u001b[1m99s\u001b[0m 2s/step - accuracy: 0.9285 - loss: 0.2224 - val_accuracy: 0.8903 - val_loss: 0.3178\n",
      "Epoch 10/15\n",
      "\u001b[1m60/60\u001b[0m \u001b[32m━━━━━━━━━━━━━━━━━━━━\u001b[0m\u001b[37m\u001b[0m \u001b[1m99s\u001b[0m 2s/step - accuracy: 0.9387 - loss: 0.1911 - val_accuracy: 0.8853 - val_loss: 0.3138\n",
      "Epoch 11/15\n",
      "\u001b[1m60/60\u001b[0m \u001b[32m━━━━━━━━━━━━━━━━━━━━\u001b[0m\u001b[37m\u001b[0m \u001b[1m98s\u001b[0m 2s/step - accuracy: 0.9249 - loss: 0.2234 - val_accuracy: 0.8404 - val_loss: 0.3537\n",
      "Epoch 12/15\n",
      "\u001b[1m60/60\u001b[0m \u001b[32m━━━━━━━━━━━━━━━━━━━━\u001b[0m\u001b[37m\u001b[0m \u001b[1m98s\u001b[0m 2s/step - accuracy: 0.9234 - loss: 0.2379 - val_accuracy: 0.8778 - val_loss: 0.3141\n",
      "Epoch 13/15\n",
      "\u001b[1m60/60\u001b[0m \u001b[32m━━━━━━━━━━━━━━━━━━━━\u001b[0m\u001b[37m\u001b[0m \u001b[1m98s\u001b[0m 2s/step - accuracy: 0.9239 - loss: 0.2151 - val_accuracy: 0.8853 - val_loss: 0.3067\n",
      "Epoch 14/15\n",
      "\u001b[1m60/60\u001b[0m \u001b[32m━━━━━━━━━━━━━━━━━━━━\u001b[0m\u001b[37m\u001b[0m \u001b[1m97s\u001b[0m 2s/step - accuracy: 0.9371 - loss: 0.1921 - val_accuracy: 0.8803 - val_loss: 0.3358\n",
      "Epoch 15/15\n",
      "\u001b[1m60/60\u001b[0m \u001b[32m━━━━━━━━━━━━━━━━━━━━\u001b[0m\u001b[37m\u001b[0m \u001b[1m98s\u001b[0m 2s/step - accuracy: 0.9305 - loss: 0.1916 - val_accuracy: 0.8878 - val_loss: 0.3329\n"
     ]
    }
   ],
   "source": [
    "history1 = model.fit(train_img,epochs=15 ,batch_size=batch_size, validation_data= val_img)"
   ]
  },
  {
   "cell_type": "code",
   "execution_count": 69,
   "id": "6c7d2301",
   "metadata": {},
   "outputs": [
    {
     "name": "stdout",
     "output_type": "stream",
     "text": [
      "\u001b[1m10/10\u001b[0m \u001b[32m━━━━━━━━━━━━━━━━━━━━\u001b[0m\u001b[37m\u001b[0m \u001b[1m6s\u001b[0m 570ms/step - accuracy: 0.7933 - loss: 0.4617\n",
      "Test Loss: 0.503944993019104, Test Accuracy: 0.7799999713897705\n"
     ]
    }
   ],
   "source": [
    "test_loss, test_accuracy = model.evaluate(test_img)\n",
    "print(f\"Test Loss: {test_loss}, Test Accuracy: {test_accuracy}\")"
   ]
  },
  {
   "cell_type": "code",
   "execution_count": 56,
   "id": "27aba1be-5c92-402b-a921-337a431bd2ca",
   "metadata": {},
   "outputs": [
    {
     "data": {
      "image/png": "[encoded data removed]",
      "text/plain": [
       "<Figure size 640x480 with 1 Axes>"
      ]
     },
     "metadata": {},
     "output_type": "display_data"
    }
   ],
   "source": [
    "plt.plot(history1.history['loss'] , label='Training Loss')\n",
    "plt.plot(history1.history['val_loss'] , label='Test Loss')\n",
    "plt.legend()\n",
    "plt.xlabel('epochs')\n",
    "plt.ylabel('loss')\n",
    "plt.title('Training & testing loss')\n",
    "plt.show()\n",
    "\n"
   ]
  },
  {
   "cell_type": "code",
   "execution_count": 57,
   "id": "3bf8531a-3776-462a-9c8b-334e511298de",
   "metadata": {},
   "outputs": [
    {
     "data": {
      "image/png": "[encoded data removed]",
      "text/plain": [
       "<Figure size 640x480 with 1 Axes>"
      ]
     },
     "metadata": {},
     "output_type": "display_data"
    }
   ],
   "source": [
    "plt.plot(history1.history['accuracy'] , label='Training accuracy')\n",
    "plt.plot(history1.history['val_accuracy'] , label = 'Test accuracy')\n",
    "plt.legend()\n",
    "plt.xlabel('eopchs')\n",
    "plt.ylabel('accuracy')\n",
    "plt.title('Training & Testing accuracy')\n",
    "plt.show()"
   ]
  },
  {
   "cell_type": "code",
   "execution_count": 60,
   "id": "6d7b90f1-95ba-4d80-8d83-72893dd4c210",
   "metadata": {},
   "outputs": [],
   "source": [
    "def predict(path):\n",
    "    img = load_img(path , target_size = (224,224,3))\n",
    "    img_arr = img_to_array(img)\n",
    "    norm= img_arr/255.0\n",
    "    flat = np.expand_dims(norm , axis=0)\n",
    "    pred = model.predict(flat)[0]\n",
    "    clas = classes[np.argmax(pred)]\n",
    "    return clas"
   ]
  },
  {
   "cell_type": "code",
   "execution_count": 61,
   "id": "6c3e9953-3293-485f-9f3f-da83978baf77",
   "metadata": {},
   "outputs": [
    {
     "name": "stdout",
     "output_type": "stream",
     "text": [
      "\u001b[1m1/1\u001b[0m \u001b[32m━━━━━━━━━━━━━━━━━━━━\u001b[0m\u001b[37m\u001b[0m \u001b[1m0s\u001b[0m 107ms/step\n"
     ]
    },
    {
     "data": {
      "text/plain": [
       "'NORMAL'"
      ]
     },
     "execution_count": 61,
     "metadata": {},
     "output_type": "execute_result"
    }
   ],
   "source": [
    "predict(r\"C:\\Users\\Shubham Tade\\Desktop\\Projects\\Ai project\\Detecting Pneumonia in Chest X-Rays Classification with CNN\\Data\\val\\NORMAL\\NORMAL2-IM-1427-0001.jpeg\")"
   ]
  },
  {
   "cell_type": "code",
   "execution_count": 62,
   "id": "aa7345c4-03ca-49cc-9f31-35733cee1b9b",
   "metadata": {},
   "outputs": [
    {
     "name": "stdout",
     "output_type": "stream",
     "text": [
      "\u001b[1m1/1\u001b[0m \u001b[32m━━━━━━━━━━━━━━━━━━━━\u001b[0m\u001b[37m\u001b[0m \u001b[1m0s\u001b[0m 37ms/step\n"
     ]
    },
    {
     "data": {
      "text/plain": [
       "'NORMAL'"
      ]
     },
     "execution_count": 62,
     "metadata": {},
     "output_type": "execute_result"
    }
   ],
   "source": [
    "predict(r\"C:\\Users\\Shubham Tade\\Desktop\\Projects\\Ai project\\Detecting Pneumonia in Chest X-Rays Classification with CNN\\Data\\val\\NORMAL\\NORMAL2-IM-1430-0001.jpeg\")"
   ]
  },
  {
   "cell_type": "code",
   "execution_count": 63,
   "id": "d317112f",
   "metadata": {},
   "outputs": [
    {
     "name": "stdout",
     "output_type": "stream",
     "text": [
      "\u001b[1m1/1\u001b[0m \u001b[32m━━━━━━━━━━━━━━━━━━━━\u001b[0m\u001b[37m\u001b[0m \u001b[1m0s\u001b[0m 37ms/step\n"
     ]
    },
    {
     "data": {
      "text/plain": [
       "'PNEUMONIA'"
      ]
     },
     "execution_count": 63,
     "metadata": {},
     "output_type": "execute_result"
    }
   ],
   "source": [
    "predict(r\"C:\\Users\\Shubham Tade\\Desktop\\Projects\\Ai project\\Detecting Pneumonia in Chest X-Rays Classification with CNN\\Data\\val\\PNEUMONIA\\person1946_bacteria_4874.jpeg\")"
   ]
  },
  {
   "cell_type": "code",
   "execution_count": 64,
   "id": "6e63cf51",
   "metadata": {},
   "outputs": [
    {
     "name": "stdout",
     "output_type": "stream",
     "text": [
      "\u001b[1m1/1\u001b[0m \u001b[32m━━━━━━━━━━━━━━━━━━━━\u001b[0m\u001b[37m\u001b[0m \u001b[1m0s\u001b[0m 39ms/step\n"
     ]
    },
    {
     "data": {
      "text/plain": [
       "'PNEUMONIA'"
      ]
     },
     "execution_count": 64,
     "metadata": {},
     "output_type": "execute_result"
    }
   ],
   "source": [
    "predict(r\"C:\\Users\\Shubham Tade\\Desktop\\Projects\\Ai project\\Detecting Pneumonia in Chest X-Rays Classification with CNN\\Data\\val\\PNEUMONIA\\person1946_bacteria_4875.jpeg\")"
   ]
  },
  {
   "cell_type": "code",
   "execution_count": 65,
   "id": "c7bd826f",
   "metadata": {},
   "outputs": [
    {
     "name": "stdout",
     "output_type": "stream",
     "text": [
      "\u001b[1m1/1\u001b[0m \u001b[32m━━━━━━━━━━━━━━━━━━━━\u001b[0m\u001b[37m\u001b[0m \u001b[1m0s\u001b[0m 42ms/step\n"
     ]
    },
    {
     "data": {
      "text/plain": [
       "'NORMAL'"
      ]
     },
     "execution_count": 65,
     "metadata": {},
     "output_type": "execute_result"
    }
   ],
   "source": [
    "predict(r\"C:\\Users\\Shubham Tade\\Desktop\\Projects\\Ai project\\Detecting Pneumonia in Chest X-Rays Classification with CNN\\Data\\val\\NORMAL\\NORMAL2-IM-1442-0001.jpeg\")"
   ]
  },
  {
   "cell_type": "code",
   "execution_count": 66,
   "id": "83d6b0f5",
   "metadata": {},
   "outputs": [
    {
     "name": "stdout",
     "output_type": "stream",
     "text": [
      "\u001b[1m1/1\u001b[0m \u001b[32m━━━━━━━━━━━━━━━━━━━━\u001b[0m\u001b[37m\u001b[0m \u001b[1m0s\u001b[0m 55ms/step\n"
     ]
    },
    {
     "data": {
      "text/plain": [
       "'NORMAL'"
      ]
     },
     "execution_count": 66,
     "metadata": {},
     "output_type": "execute_result"
    }
   ],
   "source": [
    "predict(r\"C:\\Users\\Shubham Tade\\Desktop\\Projects\\Ai project\\Detecting Pneumonia in Chest X-Rays Classification with CNN\\Data\\val\\NORMAL\\NORMAL2-IM-1440-0001.jpeg\")"
   ]
  },
  {
   "cell_type": "code",
   "execution_count": null,
   "id": "f0eb9d21-30f4-47a5-8afa-dae677d68cdb",
   "metadata": {},
   "outputs": [],
   "source": [
    "# def predict(image_path):\n",
    "#        img = load_img(image_path, target_size=(512, 512))\n",
    "#        img_arr = img_to_array(img)\n",
    "#        norm = img_arr / 255.0\n",
    "#        flat = np.expand_dims(norm, axis=0)\n",
    "#        pred = model.predict(flat)[0]\n",
    "#        clas = classes[np.argmax(pred)]\n",
    "#        return clas"
   ]
  },
  {
   "cell_type": "code",
   "execution_count": null,
   "id": "ee0fd624-c43b-4b7f-8379-96cc497e2f55",
   "metadata": {},
   "outputs": [],
   "source": [
    "# predictions = []\n",
    "#    for i in range(8):\n",
    "#        image_path = f'path_to_your_folder/image_{i}.jpg'  # Update the path and naming convention as needed\n",
    "#        class_prediction = predict(image_path)\n",
    "#        predictions.append(class_prediction)"
   ]
  },
  {
   "cell_type": "markdown",
   "id": "e34d5fc4-796c-45ac-999a-d78c1cd18291",
   "metadata": {},
   "source": [
    "## the model perform and predict the output very well"
   ]
  },
  {
   "cell_type": "code",
   "execution_count": 73,
   "id": "fcd78386-1596-4786-9820-1f08b7a58ece",
   "metadata": {},
   "outputs": [],
   "source": [
    "from joblib import dump"
   ]
  },
  {
   "cell_type": "code",
   "execution_count": 74,
   "id": "496a198f",
   "metadata": {},
   "outputs": [
    {
     "name": "stderr",
     "output_type": "stream",
     "text": [
      "WARNING:absl:You are saving your model as an HDF5 file via `model.save()` or `keras.saving.save_model(model)`. This file format is considered legacy. We recommend using instead the native Keras format, e.g. `model.save('my_model.keras')` or `keras.saving.save_model(model, 'my_model.keras')`. \n"
     ]
    }
   ],
   "source": [
    "model.save('Detecting Pneumonia in Chest X-Rays Classification with CNN Dump file.h5')"
   ]
  },
  {
   "cell_type": "code",
   "execution_count": 75,
   "id": "ab2eb5b2",
   "metadata": {},
   "outputs": [
    {
     "data": {
      "text/plain": [
       "['Detecting Pneumonia in Chest X-Rays Classification with CNN Dump file.joblib']"
      ]
     },
     "execution_count": 75,
     "metadata": {},
     "output_type": "execute_result"
    }
   ],
   "source": [
    "dump(model,'Detecting Pneumonia in Chest X-Rays Classification with CNN Dump file.joblib')"
   ]
  },
  {
   "cell_type": "markdown",
   "id": "c54c69d2-59d9-428e-9de5-794974c1380d",
   "metadata": {},
   "source": [
    "## dump (save) the model "
   ]
  },
  {
   "cell_type": "code",
   "execution_count": null,
   "id": "9c7472e5-6351-49a8-8701-fee22e439229",
   "metadata": {},
   "outputs": [],
   "source": []
  }
 ],
 "metadata": {
  "kernelspec": {
   "display_name": "Python 3 (ipykernel)",
   "language": "python",
   "name": "python3"
  },
  "language_info": {
   "codemirror_mode": {
    "name": "ipython",
    "version": 3
   },
   "file_extension": ".py",
   "mimetype": "text/x-python",
   "name": "python",
   "nbconvert_exporter": "python",
   "pygments_lexer": "ipython3",
   "version": "3.12.2"
  }
 },
 "nbformat": 4,
 "nbformat_minor": 5
}
