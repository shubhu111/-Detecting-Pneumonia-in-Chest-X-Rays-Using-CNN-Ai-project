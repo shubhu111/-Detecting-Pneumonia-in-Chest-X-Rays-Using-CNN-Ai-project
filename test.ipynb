{
 "cells": [
  {
   "cell_type": "code",
   "execution_count": 13,
   "id": "0410b962-96ed-40f7-8ee3-82e2831c0866",
   "metadata": {},
   "outputs": [],
   "source": [
    "import joblib\n",
    "import warnings\n",
    "warnings.filterwarnings('ignore')\n",
    "import tensorflow\n",
    "import numpy as np"
   ]
  },
  {
   "cell_type": "code",
   "execution_count": 10,
   "id": "5dec0df5-715d-4df0-b2ff-9a9469c82b31",
   "metadata": {},
   "outputs": [],
   "source": [
    "from tensorflow.keras.preprocessing.image import load_img,img_to_array"
   ]
  },
  {
   "cell_type": "code",
   "execution_count": 16,
   "id": "b726c142-37c7-4a16-93b8-d56b21eb20e6",
   "metadata": {},
   "outputs": [],
   "source": [
    "model = joblib.load(\"Detecting Pneumonia in Chest X-Rays Classification with CNN Dump file.joblib\")"
   ]
  },
  {
   "cell_type": "code",
   "execution_count": 17,
   "id": "a5ff845d-04de-4a36-8c1d-3f4828af3f13",
   "metadata": {},
   "outputs": [],
   "source": [
    "classes = ['NORMAL', 'PNEUMONIA']"
   ]
  },
  {
   "cell_type": "code",
   "execution_count": 18,
   "id": "cc749b8f-aef5-47d3-bcec-3f504a016dbd",
   "metadata": {},
   "outputs": [],
   "source": [
    "def predict(path):\n",
    "    img = load_img(path , target_size = (224,224,3))\n",
    "    img_arr = img_to_array(img)\n",
    "    norm= img_arr/255.0\n",
    "    flat = np.expand_dims(norm , axis=0)\n",
    "    pred = model.predict(flat)[0]\n",
    "    clas = classes[np.argmax(pred)]\n",
    "    return clas"
   ]
  },
  {
   "cell_type": "code",
   "execution_count": 19,
   "id": "1a8ee251-f1c5-45cc-9b21-999c53985bd5",
   "metadata": {},
   "outputs": [
    {
     "name": "stdout",
     "output_type": "stream",
     "text": [
      "\u001b[1m1/1\u001b[0m \u001b[32m━━━━━━━━━━━━━━━━━━━━\u001b[0m\u001b[37m\u001b[0m \u001b[1m0s\u001b[0m 126ms/step\n"
     ]
    },
    {
     "data": {
      "text/plain": [
       "'NORMAL'"
      ]
     },
     "execution_count": 19,
     "metadata": {},
     "output_type": "execute_result"
    }
   ],
   "source": [
    "predict(r\"C:\\Users\\Shubham Tade\\Desktop\\Projects\\Ai project\\Detecting Pneumonia in Chest X-Rays Classification with CNN\\Data\\test\\NORMAL\\NORMAL2-IM-0347-0001.jpeg\")"
   ]
  },
  {
   "cell_type": "code",
   "execution_count": 21,
   "id": "adb33f20-2373-472e-8ade-09ad82191393",
   "metadata": {},
   "outputs": [
    {
     "name": "stdout",
     "output_type": "stream",
     "text": [
      "\u001b[1m1/1\u001b[0m \u001b[32m━━━━━━━━━━━━━━━━━━━━\u001b[0m\u001b[37m\u001b[0m \u001b[1m0s\u001b[0m 40ms/step\n"
     ]
    },
    {
     "data": {
      "text/plain": [
       "'NORMAL'"
      ]
     },
     "execution_count": 21,
     "metadata": {},
     "output_type": "execute_result"
    }
   ],
   "source": [
    "predict(r\"C:\\Users\\Shubham Tade\\Desktop\\Projects\\Ai project\\Detecting Pneumonia in Chest X-Rays Classification with CNN\\Data\\test\\NORMAL\\NORMAL2-IM-0362-0001.jpeg\")"
   ]
  },
  {
   "cell_type": "code",
   "execution_count": 22,
   "id": "2e33fd19-8d71-4a41-9a8f-75e58122a615",
   "metadata": {},
   "outputs": [
    {
     "name": "stdout",
     "output_type": "stream",
     "text": [
      "\u001b[1m1/1\u001b[0m \u001b[32m━━━━━━━━━━━━━━━━━━━━\u001b[0m\u001b[37m\u001b[0m \u001b[1m0s\u001b[0m 62ms/step\n"
     ]
    },
    {
     "data": {
      "text/plain": [
       "'NORMAL'"
      ]
     },
     "execution_count": 22,
     "metadata": {},
     "output_type": "execute_result"
    }
   ],
   "source": [
    "predict(r\"C:\\Users\\Shubham Tade\\Desktop\\Projects\\Ai project\\Detecting Pneumonia in Chest X-Rays Classification with CNN\\Data\\test\\NORMAL\\NORMAL2-IM-0362-0001.jpeg\")"
   ]
  },
  {
   "cell_type": "code",
   "execution_count": 23,
   "id": "4bbb592e-5388-4596-b1dd-d930430fb1c0",
   "metadata": {},
   "outputs": [
    {
     "name": "stdout",
     "output_type": "stream",
     "text": [
      "\u001b[1m1/1\u001b[0m \u001b[32m━━━━━━━━━━━━━━━━━━━━\u001b[0m\u001b[37m\u001b[0m \u001b[1m0s\u001b[0m 36ms/step\n"
     ]
    },
    {
     "data": {
      "text/plain": [
       "'PNEUMONIA'"
      ]
     },
     "execution_count": 23,
     "metadata": {},
     "output_type": "execute_result"
    }
   ],
   "source": [
    "predict(r\"C:\\Users\\Shubham Tade\\Desktop\\Projects\\Ai project\\Detecting Pneumonia in Chest X-Rays Classification with CNN\\Data\\test\\PNEUMONIA\\person1626_virus_2818.jpeg\")"
   ]
  },
  {
   "cell_type": "code",
   "execution_count": 24,
   "id": "ba31485b-251d-4f13-a8ca-004110962cb0",
   "metadata": {},
   "outputs": [
    {
     "name": "stdout",
     "output_type": "stream",
     "text": [
      "\u001b[1m1/1\u001b[0m \u001b[32m━━━━━━━━━━━━━━━━━━━━\u001b[0m\u001b[37m\u001b[0m \u001b[1m0s\u001b[0m 39ms/step\n"
     ]
    },
    {
     "data": {
      "text/plain": [
       "'PNEUMONIA'"
      ]
     },
     "execution_count": 24,
     "metadata": {},
     "output_type": "execute_result"
    }
   ],
   "source": [
    "predict(r\"C:\\Users\\Shubham Tade\\Desktop\\Projects\\Ai project\\Detecting Pneumonia in Chest X-Rays Classification with CNN\\Data\\test\\PNEUMONIA\\person1667_virus_2881.jpeg\")"
   ]
  },
  {
   "cell_type": "code",
   "execution_count": 26,
   "id": "9b3344ae-d026-4da9-bc3f-604b32c37605",
   "metadata": {},
   "outputs": [
    {
     "name": "stdout",
     "output_type": "stream",
     "text": [
      "\u001b[1m1/1\u001b[0m \u001b[32m━━━━━━━━━━━━━━━━━━━━\u001b[0m\u001b[37m\u001b[0m \u001b[1m0s\u001b[0m 82ms/step\n"
     ]
    },
    {
     "data": {
      "text/plain": [
       "'PNEUMONIA'"
      ]
     },
     "execution_count": 26,
     "metadata": {},
     "output_type": "execute_result"
    }
   ],
   "source": [
    "predict(r\"C:\\Users\\Shubham Tade\\Desktop\\Projects\\Ai project\\Detecting Pneumonia in Chest X-Rays Classification with CNN\\Data\\test\\PNEUMONIA\\person1667_virus_2881.jpeg\")"
   ]
  },
  {
   "cell_type": "code",
   "execution_count": null,
   "id": "194d773d-f1e5-4a48-be48-87d46ae844a5",
   "metadata": {},
   "outputs": [],
   "source": []
  }
 ],
 "metadata": {
  "kernelspec": {
   "display_name": "Python 3 (ipykernel)",
   "language": "python",
   "name": "python3"
  },
  "language_info": {
   "codemirror_mode": {
    "name": "ipython",
    "version": 3
   },
   "file_extension": ".py",
   "mimetype": "text/x-python",
   "name": "python",
   "nbconvert_exporter": "python",
   "pygments_lexer": "ipython3",
   "version": "3.12.2"
  }
 },
 "nbformat": 4,
 "nbformat_minor": 5
}
